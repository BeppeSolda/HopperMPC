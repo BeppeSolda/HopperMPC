{
 "cells": [
  {
   "cell_type": "markdown",
   "metadata": {},
   "source": [
    "## Example: Overview over the main functionalities\n",
    "\n",
    "This is an example on how to use the code to:\n",
    "\n",
    "1. **Generate C code for the Jacobians and RK4 function**:\n",
    "   - The first step is to generate C code for the Jacobians and the Runge-Kutta 4 (RK4) function.\n",
    "   - After that, compile the generated C code into a dynamically linked library (`.so` file on Linux, `.dll` on Windows).\n",
    "\n",
    "2. **Generate C code for the Controller**:\n",
    "   - Once the Jacobians and RK4 functions are compiled, generate the C code for the controller.\n",
    "\n",
    "3. **Run a Closed-Loop Simulation**:\n",
    "   - Use the compiled controller in a closed-loop simulation to track a reference trajectory.\n",
    "   - This step involves testing the controller in a simulated environment to see how well it performs in terms of trajectory tracking.\n"
   ]
  },
  {
   "cell_type": "code",
   "execution_count": null,
   "metadata": {},
   "outputs": [],
   "source": [
    "from utils.CasadiJacobians import CasadiJacobians\n",
    "from params import *\n",
    "\n",
    "CreateJacobians = CasadiJacobians('params.json','Thorpy')\n",
    "\n",
    "\n",
    "A_func,B_func,rk4_func = CreateJacobians.Thorpy_Gen()\n",
    "\n"
   ]
  },
  {
   "cell_type": "markdown",
   "metadata": {},
   "source": []
  },
  {
   "cell_type": "markdown",
   "metadata": {},
   "source": [
    "Suggested Code Generation Routine:\n",
    "\n",
    "Create codegeneration folder and inside it the folder for Casadi related code generation, move the A_func_SCVx.c B_fun_SCVxc.c rk4_func_SCVx.c files into Codegen/Casadi.\n",
    "\n",
    "Now the Jacobians and rk4 .c files have to be compiled, for example as such:\n",
    "gcc -fPIC -shared rk4_func.c -o rk4_func.so\n",
    "\n",
    "Key point to notice is that once these functions are generated, they are not dependent on the parameters of the mpc but only on the model used to generate them (SCVx or Thorpy), so they can be generated and compiled once and never again, unless changes in the rocket dynamics model are made.\n",
    "### 1) **Generate C Code for the Jacobians and RK4 Function**\n",
    "\n",
    "- Move the `A_func.c`, `B_func.c`, and `rk4_func.c` files into the `Codegen/Casadi` folder.\n",
    "\n",
    "### 2) **Compile the C Code into a Dynamically Linked Library**\n",
    "\n",
    "- Once the C code files are placed into the `Codegen/Casadi` folder, compile them using the following command:\n",
    "\n",
    "    ```bash\n",
    "    gcc -fPIC -shared rk4_func.c -o rk4_func.so\n",
    "    ```\n",
    "\n",
    "- Repeat the process for the other C files (`A_func.c` and `B_func.c`) in the same manner.\n",
    "### Summary\n",
    "\n",
    "- Once these functions are generated and compiled, they will be ready to use in the MPC controller and will not need to be regenerated unless there are changes to the rocket dynamics model.\n",
    "\n",
    "The correct functioning of the compiled functions can be verified by running:"
   ]
  },
  {
   "cell_type": "code",
   "execution_count": null,
   "metadata": {},
   "outputs": [],
   "source": [
    "CreateJacobians.Validate_Compiled_Functions(A_func, B_func, rk4_func)\n"
   ]
  },
  {
   "cell_type": "markdown",
   "metadata": {},
   "source": [
    "The following chunck of code (which is the same as main_Codegen_SCVx) can then be run:"
   ]
  },
  {
   "cell_type": "code",
   "execution_count": null,
   "metadata": {},
   "outputs": [],
   "source": [
    "from mpc.MPC_Codegen_Thorpy import MPC_gen\n",
    "from dynamics.RocketDynamics import RocketDynamics\n",
    "import casadi as ca\n",
    "\n",
    "A_funcgen = ca.external(\"A_func\", \"Codegen/Casadi/A_func.so\")\n",
    "B_funcgen = ca.external(\"B_func\", \"Codegen/Casadi/B_func.so\")\n",
    "rk4_funcgen = ca.external(\"rk4_func\", \"Codegen/Casadi/rk4_func.so\")\n",
    "\n",
    "\n",
    "rocket_dyn = RocketDynamics('params.json')\n",
    "\n",
    "\n",
    "controller_dir = 'Codegen/ECOS/mpc_Thorpy_ECOS_Nmpc30_T3'\n",
    "\n",
    "mpc = MPC_gen('params.json',rocket_dyn,A_funcgen,B_funcgen,rk4_funcgen,controller_dir)\n",
    "\n",
    "x, u,error_vect = mpc.generate_C_code()"
   ]
  },
  {
   "cell_type": "markdown",
   "metadata": {},
   "source": [
    "After succsesfull code generation, the controller can be tested in a closed loop simulation (can be achieved by running main_SCVx)"
   ]
  },
  {
   "cell_type": "code",
   "execution_count": null,
   "metadata": {},
   "outputs": [],
   "source": [
    "from mpc.MPC_Tracker_Thorpy import MPC_Tracker\n",
    "from dynamics.RocketDynamics import RocketDynamics\n",
    "from simulation.ClosedLoop_Simulation import ClosedLoop_Simulation\n",
    "from utils.plot_results import plot_results_tracker, plot_mpc_metrics\n",
    "import casadi as ca\n",
    "\n",
    "from Codegen.ECOS.mpc_Thorpy_ECOS_Nmpc30_T3.cpg_solver import cpg_solve\n",
    "\n",
    "A_funcgen = ca.external(\"A_func\", \"Codegen/Casadi/A_func.so\")\n",
    "B_funcgen = ca.external(\"B_func\", \"Codegen/Casadi/B_func.so\")\n",
    "rk4_funcgen = ca.external(\"rk4_func\", \"Codegen/Casadi/rk4_func.so\")\n",
    "\n",
    "\n",
    "rocket_dyn = RocketDynamics('params.json')\n",
    "controller_dir = 'Codegen/ECOS/mpc_Thorpy_ECOS_Nmpc30_T3/problem.pickle'\n",
    "\n",
    "\n",
    "mpc = MPC_Tracker('params.json',rocket_dyn,A_funcgen,B_funcgen,rk4_funcgen,controller_dir,cpg_solve)\n",
    "cl_sim = ClosedLoop_Simulation(mpc)\n",
    "\n",
    "x, u,error_vect, solver_times, tracking_errors, max_tracking_error =cl_sim.simulate()\n",
    "\n",
    "\n",
    "\n",
    "# save_folder = 'C:/Users/Utente/Desktop/Hopper_plots/Quaternions/T3_N30_Mass_Long2'\n",
    "\n",
    "plot_results_tracker(mpc.t_ref, x, mpc.X_ref, u, mpc.U_ref)\n",
    "\n",
    "plot_mpc_metrics(mpc.t_ref, solver_times, tracking_errors, max_tracking_error)\n",
    "\n",
    "\n",
    "\n",
    "\n",
    "save_folder = None\n",
    "\n",
    "plot_results_tracker(mpc.t_ref, x, mpc.X_ref, u, mpc.U_ref,save_folder)\n",
    "\n",
    "plot_mpc_metrics(mpc.t_ref, solver_times, tracking_errors, max_tracking_error,save_folder)\n",
    "\n"
   ]
  }
 ],
 "metadata": {
  "kernelspec": {
   "display_name": "Python 3",
   "language": "python",
   "name": "python3"
  },
  "language_info": {
   "codemirror_mode": {
    "name": "ipython",
    "version": 3
   },
   "file_extension": ".py",
   "mimetype": "text/x-python",
   "name": "python",
   "nbconvert_exporter": "python",
   "pygments_lexer": "ipython3",
   "version": "3.12.4"
  }
 },
 "nbformat": 4,
 "nbformat_minor": 2
}
